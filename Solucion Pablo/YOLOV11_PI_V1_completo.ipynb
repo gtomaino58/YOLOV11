{
 "cells": [
  {
   "cell_type": "code",
   "execution_count": 1,
   "id": "151dfe96",
   "metadata": {},
   "outputs": [
    {
     "name": "stdout",
     "output_type": "stream",
     "text": [
      "Procesando video...\n",
      "Procesamiento completado. Video guardado como tracking_coches.avi\n"
     ]
    }
   ],
   "source": [
    "# Version Pablo Izquierdo del dia 09/06/2025\n",
    "\n",
    "from ultralytics import YOLO\n",
    "import cv2\n",
    "\n",
    "# Cargar modelo YOLOv11\n",
    "model = YOLO(\"yolo11n.pt\") # Asegúrate de tener este archivo en el directorio\n",
    "\n",
    "# Ruta del video de entrada\n",
    "path = 'C:/Users/gtoma/Master_AI_Aplicada/UEM_Master_AI_07042025/UEM_Trabajo/Sesiones_UEM/Manuel_Garcia_VISION/Actividad_3_YOLOV11/'\n",
    "video_path = path + 'comma_small.mp4' # Cambia el nombre del video según sea necesario\n",
    "\n",
    "# Inicializar captura de video\n",
    "cap = cv2.VideoCapture(video_path)\n",
    "merged_tracks = {} # Diccionario para almacenar trayectorias\n",
    "\n",
    "# Obtener propiedades del video\n",
    "width = int(cap.get(cv2.CAP_PROP_FRAME_WIDTH))\n",
    "height = int(cap.get(cv2.CAP_PROP_FRAME_HEIGHT))\n",
    "fps = cap.get(cv2.CAP_PROP_FPS) or 30 # FPS estimado si es 0\n",
    "\n",
    "# Configurar escritor de video\n",
    "out = cv2.VideoWriter(path+'tracking_coches_test.avi',cv2.VideoWriter_fourcc(*'XVID'), fps, (width, height))\n",
    "print(\"Procesando video...\")\n",
    "while cap.isOpened():\n",
    "    ret, frame = cap.read()\n",
    "    if not ret:\n",
    "        break\n",
    "\n",
    "    # Ejecutar detección y seguimiento en el fotograma actual\n",
    "    results = model.track(frame, persist=True, conf=0.5, verbose=False)[0]\n",
    "    boxes = results.boxes\n",
    "    unique_ids = set()\n",
    "    for box in boxes:\n",
    "        if int(box.cls[0]) not in [2, 5, 7] or box.id is None:\n",
    "            continue\n",
    "        track_id = int(box.id[0])\n",
    "        x1, y1, x2, y2 = map(int, box.xyxy[0])\n",
    "        center = ((x1 + x2) // 2, (y1 + y2) // 2)\n",
    "        unique_ids.add(track_id)\n",
    "\n",
    "        # Almacenar trayectoria\n",
    "        if track_id not in merged_tracks:\n",
    "            merged_tracks[track_id] = []\n",
    "        merged_tracks[track_id].append(center)\n",
    "\n",
    "        # Dibujar caja delimitadora en rojo\n",
    "        cv2.rectangle(frame, (x1, y1), (x2, y2), (0, 0, 255), 2)\n",
    "        cv2.putText(frame, f'ID {track_id}', (x1, y1 - 10), cv2.FONT_HERSHEY_SIMPLEX, 0.6, (0, 0, 255), 2)\n",
    "\n",
    "        # Dibujar trayectoria en blanco\n",
    "        for pt in merged_tracks[track_id]:\n",
    "            cv2.circle(frame, (int(pt[0]), int(pt[1])), 2, (255, 255, 255), -1)\n",
    "    \n",
    "    # Mostrar el fotograma procesado (opcional)\n",
    "    cv2.imshow(\"Detección en video\", frame)\n",
    "\n",
    "    # Guardar el fotograma en el video de salida\n",
    "    out.write(frame)\n",
    "\n",
    "    # Salir con la tecla 'q'\n",
    "    if cv2.waitKey(1) & 0xFF == ord('q'):\n",
    "        break\n",
    "\n",
    "cap.release()\n",
    "out.release()\n",
    "cv2.destroyAllWindows()\n",
    "print(\"Procesamiento completado. Video guardado como tracking_coches.avi\")\n",
    "\n"
   ]
  }
 ],
 "metadata": {
  "kernelspec": {
   "display_name": "pytorch_13042025",
   "language": "python",
   "name": "python3"
  },
  "language_info": {
   "codemirror_mode": {
    "name": "ipython",
    "version": 3
   },
   "file_extension": ".py",
   "mimetype": "text/x-python",
   "name": "python",
   "nbconvert_exporter": "python",
   "pygments_lexer": "ipython3",
   "version": "3.12.9"
  }
 },
 "nbformat": 4,
 "nbformat_minor": 5
}
