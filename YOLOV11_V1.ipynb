{
 "cells": [
  {
   "cell_type": "code",
   "execution_count": null,
   "id": "09e9f59d",
   "metadata": {},
   "outputs": [],
   "source": [
    "# Desarrollo de un modleo YOLO11\n",
    "\n",
    "import os\n",
    "import sys\n",
    "import argparse\n",
    "import numpy as np\n",
    "import torch\n",
    "import torch.nn as nn\n",
    "import torch.optim as optim\n",
    "from torch.utils.data import DataLoader\n",
    "from torchvision import transforms\n",
    "from torchvision.datasets import VOCDetection\n",
    "from torchvision.models import resnet50\n",
    "from torchvision.models.detection import FasterRCNN\n",
    "from torchvision.models.detection.rpn import AnchorGenerator\n",
    "from utils import collate_fn, train_one_epoch, evaluate\n",
    "from utils import get_transform\n",
    "from utils import save_model, load_model    \n",
    "    "
   ]
  }
 ],
 "metadata": {
  "language_info": {
   "name": "python"
  }
 },
 "nbformat": 4,
 "nbformat_minor": 5
}
